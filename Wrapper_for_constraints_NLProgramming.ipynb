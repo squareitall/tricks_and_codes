{
  "nbformat": 4,
  "nbformat_minor": 0,
  "metadata": {
    "colab": {
      "name": "Project_3.ipynb",
      "provenance": []
    },
    "kernelspec": {
      "name": "python3",
      "display_name": "Python 3"
    },
    "language_info": {
      "name": "python"
    }
  },
  "cells": [
    {
      "cell_type": "code",
      "metadata": {
        "id": "gRmJz7hWUEKE"
      },
      "source": [
        "import pandas as pd\n",
        "import numpy as np\n",
        "\n",
        "from sklearn.model_selection import KFold\n",
        "\n",
        "from sklearn.linear_model import LinearRegression,Lasso"
      ],
      "execution_count": 1,
      "outputs": []
    },
    {
      "cell_type": "code",
      "metadata": {
        "id": "IeHsHzgDUXGf"
      },
      "source": [
        "df=pd.read_csv('training_data.csv')"
      ],
      "execution_count": 4,
      "outputs": []
    },
    {
      "cell_type": "code",
      "metadata": {
        "id": "f0HPwBiaUy6T"
      },
      "source": [
        "# def preprocess()\n",
        "\n",
        "x=df.drop(['y'],axis=1).values\n",
        "y=df['y'].values#.reshape(-1,1)\n",
        "\n",
        "instances,predictors=x.shape\n",
        "\n",
        "x=np.concatenate([x,np.ones(shape=(x.shape[0],1))],axis=1)\n",
        "\n",
        "#We have an alzebraic formulation for all the predictors and intercept, we need to incorporate z based pivot variables in our loss function\n",
        "#This needs to be done beacus eof the design of scipy optimization instance that requires variable to be of fixed length in our constraint and loss function\n",
        "\n",
        "expanded_loss_term1=np.zeros(shape=(2*predictors+1,2*predictors+1))\n",
        "expanded_loss_term1[:predictors+1,:predictors+1]=x.T@x\n",
        "\n",
        "\n",
        "expanded_loss_term2=np.zeros(\n",
        "    shape=(2*predictors+1)\n",
        ")\n",
        "expanded_loss_term2[:predictors+1]=-2*(y.T@x)\n",
        "\n"
      ],
      "execution_count": 33,
      "outputs": []
    },
    {
      "cell_type": "code",
      "metadata": {
        "id": "ABXjtePZVACw"
      },
      "source": [
        "# bb=np.random.normal(size=(2*predictors+1))\n",
        "# expanded_loss_term2@bb\n",
        "# bb.T@expanded_loss_term1@bb\n",
        "\n",
        "\n",
        "lt_f=[]\n",
        "delta_t=0\n",
        "for i in range(3):\n",
        "  def fn(a):\n",
        "    # global delta_t\n",
        "    return (a + delta_t)\n",
        "  fn.__name__='fn_'+str(delta_t)\n",
        "\n",
        "  delta_t+=1\n",
        "  lt_f.append(fn)"
      ],
      "execution_count": 41,
      "outputs": []
    },
    {
      "cell_type": "code",
      "metadata": {
        "colab": {
          "base_uri": "https://localhost:8080/"
        },
        "id": "sSmzHHWrX7RL",
        "outputId": "58fa62d2-294a-4af7-c8e3-bdfed9ada778"
      },
      "source": [
        "[i.__name__ for i in lt_f]"
      ],
      "execution_count": 43,
      "outputs": [
        {
          "output_type": "execute_result",
          "data": {
            "text/plain": [
              "['fn_0', 'fn_1', 'fn_2']"
            ]
          },
          "metadata": {},
          "execution_count": 43
        }
      ]
    },
    {
      "cell_type": "code",
      "metadata": {
        "id": "znqGmIAvZEAy"
      },
      "source": [
        "def wrapper(f):\n",
        "  def inner(*args):\n",
        "    print('wassup')\n",
        "    return f(*args)\n",
        "  return inner\n",
        "\n"
      ],
      "execution_count": 44,
      "outputs": []
    },
    {
      "cell_type": "code",
      "metadata": {
        "colab": {
          "base_uri": "https://localhost:8080/"
        },
        "id": "9a9pi8apkStx",
        "outputId": "6db5bdb2-72bc-4139-baf9-9f632958068c"
      },
      "source": [
        "def fn(a):\n",
        "  return a+1\n",
        "\n",
        "\n",
        "fn=wrapper(fn)\n",
        "# fn(10)\n",
        "\n",
        "@wrapper\n",
        "def fn0(a):\n",
        "  return a*1\n",
        "\n",
        "fn0(0.1)"
      ],
      "execution_count": 50,
      "outputs": [
        {
          "output_type": "stream",
          "name": "stdout",
          "text": [
            "wassup\n"
          ]
        },
        {
          "output_type": "execute_result",
          "data": {
            "text/plain": [
              "0.1"
            ]
          },
          "metadata": {},
          "execution_count": 50
        }
      ]
    },
    {
      "cell_type": "code",
      "metadata": {
        "id": "IEmG0Ypxka3y"
      },
      "source": [
        "# https://stackoverflow.com/questions/15331726/how-does-functools-partial-do-what-it-does\n",
        "\n",
        "def wrapper(f, *add_args):\n",
        "  def inner(*args):\n",
        "    lt_args=list(args)\n",
        "    lt_args.extend(add_args)#this arguments will be thus added after so see the positional argument of the parent function to \n",
        "    \n",
        "    return f(*lt_args)\n",
        "  return inner"
      ],
      "execution_count": 52,
      "outputs": []
    },
    {
      "cell_type": "code",
      "metadata": {
        "colab": {
          "base_uri": "https://localhost:8080/"
        },
        "id": "1LJiqVmDoVuU",
        "outputId": "d724d7b3-cef6-4496-b9f2-1c59be818d43"
      },
      "source": [
        "bb=np.arange(5)\n",
        "bb"
      ],
      "execution_count": 55,
      "outputs": [
        {
          "output_type": "execute_result",
          "data": {
            "text/plain": [
              "array([0, 1, 2, 3, 4])"
            ]
          },
          "metadata": {},
          "execution_count": 55
        }
      ]
    },
    {
      "cell_type": "code",
      "metadata": {
        "id": "-LgZeZpYkbqA"
      },
      "source": [
        "def constraint(M,i):\n",
        "  global bb\n",
        "  return M - bb[i] \n",
        "\n",
        "lt_fn=[]\n",
        "# const=wrapper(const,)\n",
        "lt_fn=[wrapper(constraint,i) for i in range(len(bb))]"
      ],
      "execution_count": 60,
      "outputs": []
    },
    {
      "cell_type": "code",
      "metadata": {
        "colab": {
          "base_uri": "https://localhost:8080/"
        },
        "id": "fvpn3qjXpela",
        "outputId": "394cb3b1-7401-482b-c1bc-c8b573f50ad9"
      },
      "source": [
        "[f(100) for f in lt_fn]#This will execute like inner(100) inner(100) inner(100) inner(100) inner(100)__> constraint(100,0),constraint(100,1),constraint(100,2),constraint(100,3)constraint(100,4)"
      ],
      "execution_count": 61,
      "outputs": [
        {
          "output_type": "execute_result",
          "data": {
            "text/plain": [
              "[100, 99, 98, 97, 96]"
            ]
          },
          "metadata": {},
          "execution_count": 61
        }
      ]
    },
    {
      "cell_type": "code",
      "metadata": {
        "id": "HJoNQzbAqJcH"
      },
      "source": [
        ""
      ],
      "execution_count": null,
      "outputs": []
    }
  ]
}