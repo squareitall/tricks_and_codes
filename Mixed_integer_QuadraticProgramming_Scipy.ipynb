{
  "nbformat": 4,
  "nbformat_minor": 0,
  "metadata": {
    "colab": {
      "name": "Project_3_old.ipynb",
      "provenance": []
    },
    "kernelspec": {
      "name": "python3",
      "display_name": "Python 3"
    },
    "language_info": {
      "name": "python"
    }
  },
  "cells": [
    {
      "cell_type": "code",
      "metadata": {
        "id": "gRmJz7hWUEKE"
      },
      "source": [
        "import pandas as pd\n",
        "import numpy as np\n",
        "\n",
        "from sklearn.model_selection import KFold\n",
        "\n",
        "from sklearn.linear_model import LinearRegression,Lasso"
      ],
      "execution_count": 1,
      "outputs": []
    },
    {
      "cell_type": "code",
      "metadata": {
        "id": "IeHsHzgDUXGf"
      },
      "source": [
        "df=pd.read_csv('training_data.csv')"
      ],
      "execution_count": 2,
      "outputs": []
    },
    {
      "cell_type": "code",
      "metadata": {
        "id": "pzFHb1SSVH1A"
      },
      "source": [
        "# def preprocess()\n",
        "\n",
        "x=df.drop(['y'],axis=1).values\n",
        "y=df['y'].values#.reshape(-1,1)\n",
        "\n",
        "instances,predictors=x.shape"
      ],
      "execution_count": 3,
      "outputs": []
    },
    {
      "cell_type": "code",
      "metadata": {
        "id": "f0HPwBiaUy6T"
      },
      "source": [
        "# def preprocess()\n",
        "\n",
        "x=df.drop(['y'],axis=1).values\n",
        "y=df['y'].values#.reshape(-1,1)\n",
        "\n",
        "instances,predictors=x.shape\n",
        "\n",
        "x=np.concatenate([x,np.ones(shape=(x.shape[0],1))],axis=1)\n",
        "\n",
        "#We have an alzebraic formulation for all the predictors and intercept, we need to incorporate z based pivot variables in our loss function\n",
        "#This needs to be done beacus eof the design of scipy optimization instance that requires variable to be of fixed length in our constraint and loss function\n",
        "\n",
        "expanded_loss_term1=np.zeros(shape=(2*predictors+1,2*predictors+1))\n",
        "expanded_loss_term1[:predictors+1,:predictors+1]=x.T@x\n",
        "\n",
        "\n",
        "expanded_loss_term2=np.zeros(\n",
        "    shape=(2*predictors+1)\n",
        ")\n",
        "expanded_loss_term2[:predictors+1]=-2*(y.T@x)\n",
        "\n",
        "#Thus we have formulated two terms for our loss function\n",
        "\n",
        "def loss_fn(vars):\n",
        "  t_1=vars.T@expanded_loss_term1@vars\n",
        "  t_2=expanded_loss_term2@vars\n",
        "  return t_1 + t_2\n",
        "\n"
      ],
      "execution_count": 4,
      "outputs": []
    },
    {
      "cell_type": "code",
      "metadata": {
        "colab": {
          "base_uri": "https://localhost:8080/"
        },
        "id": "BRn69I-AVf9t",
        "outputId": "68312ba0-261b-459b-90b1-a4908eb05f26"
      },
      "source": [
        "#Finding appropriate M by computing regression coefficients of our dataset\n",
        "\n",
        "lt_coefs=[]\n",
        "\n",
        "lr=LinearRegression()\n",
        "lr.fit(x,y)\n",
        "lt_coefs.extend(lr.coef_)\n",
        "\n",
        "for i in range(x.shape[1]):\n",
        "  lr=LinearRegression()\n",
        "  lr.fit(x[:,i].reshape(-1,1),y)\n",
        "  lt_coefs.extend(lr.coef_)\n",
        "\n",
        "\n",
        "print(np.max(np.absolute(np.array(lt_coefs))))\n",
        "# Our starting M can be--> 100 >>2.8*10\n",
        "M=np.round(np.max(np.absolute(np.array(lt_coefs)))*10,-2)\n",
        "M=20\n",
        "\n",
        "bounds=[(0,1.1) for _ in range(51)]+[(-M,M) for _ in range(predictors)]\n"
      ],
      "execution_count": 5,
      "outputs": [
        {
          "output_type": "stream",
          "name": "stdout",
          "text": [
            "2.8017076418520306\n"
          ]
        }
      ]
    },
    {
      "cell_type": "code",
      "metadata": {
        "id": "_ZxRWFqnVf3D"
      },
      "source": [
        "k=5#Variable allowed\n",
        "def num_vars(vars):\n",
        "  sum_booleans=np.sum(vars[predictors+1:])\n",
        "  return k-sum_booleans\n",
        "\n",
        "constr_1={'type':'eq','fun':num_vars}\n",
        "\n",
        "lt_constraints=[constr_1]"
      ],
      "execution_count": 6,
      "outputs": []
    },
    {
      "cell_type": "code",
      "metadata": {
        "id": "Ds7hKiXTgOwP"
      },
      "source": [
        "from functools import partial\n",
        "\n",
        "def upper_const(vars,ii):\n",
        "  return vars[ii] - M*vars[predictors+1+ii]\n",
        "\n",
        "dict_fn_upper={f'fn_{i}': partial(upper_const,ii=i) for i in range(predictors)}\n",
        "\n",
        "def lower_const(vars,ii):\n",
        "  return -vars[ii] + M*vars[predictors+1+ii]\n",
        "\n",
        "dict_fn_lower={f'fn_{i}': partial(lower_const,ii=i) for i in range(predictors)}\n",
        "\n",
        "#M BOunding constraints\n",
        "for i in range(predictors):\n",
        "  temp_constr_1={\n",
        "      'type':'ineq',\n",
        "      'fun' : dict_fn_upper[f'fn_{i}']\n",
        "  }\n",
        "  lt_constraints.append(temp_constr_1)\n",
        "\n",
        "  temp_constr_2={\n",
        "      'type':'ineq',\n",
        "      'fun' : dict_fn_lower[f'fn_{i}']\n",
        "  }\n",
        "  lt_constraints.append(temp_constr_2)\n",
        "\n",
        "\n",
        "\n",
        "# Binary constraints\n",
        "\n",
        "def binary_const(vars,ii):\n",
        "  return vars[ii]*(1-vars[ii])\n",
        "\n",
        "dict_fn={f'fn_{i}': partial(binary_const,ii=i) for i in range(predictors+1,2*predictors+1)}\n",
        "\n",
        "for i in range(predictors+1,2*predictors+1):\n",
        "    temp_constr={'type':'eq',\n",
        "                 'fun': dict_fn[f'fn_{i}']}\n",
        "    lt_constraints.append(temp_constr)\n",
        "\n"
      ],
      "execution_count": 7,
      "outputs": []
    },
    {
      "cell_type": "code",
      "metadata": {
        "id": "rQPmiBCOnHjj"
      },
      "source": [
        "# len(lt_constraints)\n",
        "# # lt_constraints[100]\n",
        "# temp_lt=list(range(101))\n",
        "# # i=2\n",
        "# # temp_lt\n",
        "# dict_fn['fn_55'](temp_lt)\n",
        "# lt_constraints[2]['fun'](temp_lt)"
      ],
      "execution_count": 8,
      "outputs": []
    },
    {
      "cell_type": "code",
      "metadata": {
        "id": "_CW1pkrfmyIH"
      },
      "source": [
        ""
      ],
      "execution_count": 8,
      "outputs": []
    },
    {
      "cell_type": "code",
      "metadata": {
        "id": "l_a075O-h-1j"
      },
      "source": [
        "lt_coefs=[]\n",
        "\n",
        "lr=LinearRegression()\n",
        "lr.fit(x,y)\n",
        "lt_coefs.extend(lr.coef_)\n",
        "initial_vals=lt_coefs+[0]*50"
      ],
      "execution_count": 9,
      "outputs": []
    },
    {
      "cell_type": "code",
      "metadata": {
        "id": "jonhESNQVfwn"
      },
      "source": [
        "from scipy.optimize import minimize\n",
        "beta_vals = minimize(loss_fn,initial_vals,\n",
        "                     bounds=bounds,constraints=lt_constraints)"
      ],
      "execution_count": 10,
      "outputs": []
    },
    {
      "cell_type": "code",
      "metadata": {
        "colab": {
          "base_uri": "https://localhost:8080/"
        },
        "id": "PAzZomcbVfol",
        "outputId": "7a30f07a-8218-4aa4-ce0a-cc3567046ebe"
      },
      "source": [
        "np.sum(beta_vals.x[predictors+1:])"
      ],
      "execution_count": 11,
      "outputs": [
        {
          "output_type": "execute_result",
          "data": {
            "text/plain": [
              "4.981689453125"
            ]
          },
          "metadata": {},
          "execution_count": 11
        }
      ]
    },
    {
      "cell_type": "code",
      "metadata": {
        "colab": {
          "base_uri": "https://localhost:8080/"
        },
        "id": "XYB8kPEHVfiW",
        "outputId": "1d6169f6-3839-4374-ee1a-61275ebdb824"
      },
      "source": [
        "len(lt_constraints)\n",
        "beta_vals.x[predictors+1:]"
      ],
      "execution_count": 21,
      "outputs": [
        {
          "output_type": "execute_result",
          "data": {
            "text/plain": [
              "array([ 3.46679687e-02,  5.14404297e-01,  5.61523438e-03,  2.49755859e-01,\n",
              "        8.54248047e-01,  3.54248047e-01,  1.92871094e-02,  4.84130859e-01,\n",
              "       -7.08007812e-03,  8.56201172e-01,  1.79443359e-01,  4.80224609e-01,\n",
              "        7.00683594e-02,  4.95605469e-02, -1.19628906e-02,  4.46777344e-02,\n",
              "        1.92871094e-02, -1.00097656e-02,  9.54589844e-02,  2.70996094e-02,\n",
              "        7.56835938e-03,  1.85302734e-01,  4.76074219e-02,  6.51855469e-02,\n",
              "       -7.08007813e-03,  8.66699219e-02,  6.59179687e-03,  3.78417969e-02,\n",
              "        8.27636719e-02, -3.17382813e-03,  8.47167969e-02,  7.32421875e-04,\n",
              "       -1.87988281e-02,  8.54492188e-03, -1.22070312e-03,  3.97949219e-02,\n",
              "        8.54492187e-03,  1.24511719e-02,  1.24511719e-02,  1.24511719e-02,\n",
              "       -3.17382812e-03,  7.32421875e-04,  1.24511719e-02,  8.54492188e-03,\n",
              "        4.63867187e-03, -7.08007812e-03,  7.32421875e-04, -7.08007812e-03,\n",
              "       -3.17382813e-03, -3.17382812e-03])"
            ]
          },
          "metadata": {},
          "execution_count": 21
        }
      ]
    },
    {
      "cell_type": "code",
      "metadata": {
        "colab": {
          "base_uri": "https://localhost:8080/"
        },
        "id": "l6D85V_kVfaR",
        "outputId": "632a522d-2c99-493d-ffef-c58fc58987d1"
      },
      "source": [
        "lt_constraints[104]['fun'](beta_vals.x)"
      ],
      "execution_count": 25,
      "outputs": [
        {
          "output_type": "execute_result",
          "data": {
            "text/plain": [
              "0.187377870082855"
            ]
          },
          "metadata": {},
          "execution_count": 25
        }
      ]
    },
    {
      "cell_type": "code",
      "metadata": {
        "id": "zp6fvxyFVe2C"
      },
      "source": [
        ""
      ],
      "execution_count": 12,
      "outputs": []
    },
    {
      "cell_type": "code",
      "metadata": {
        "id": "ABXjtePZVACw"
      },
      "source": [
        "# bb=np.random.normal(size=(2*predictors+1))\n",
        "# expanded_loss_term2@bb\n",
        "# bb.T@expanded_loss_term1@bb\n",
        "\n",
        "\n",
        "lt_f=[]\n",
        "delta_t=0\n",
        "for i in range(3):\n",
        "  def fn(a):\n",
        "    # global delta_t\n",
        "    return (a + delta_t)\n",
        "  fn.__name__='fn_'+str(delta_t)\n",
        "\n",
        "  delta_t+=1\n",
        "  lt_f.append(fn)"
      ],
      "execution_count": 13,
      "outputs": []
    },
    {
      "cell_type": "code",
      "metadata": {
        "colab": {
          "base_uri": "https://localhost:8080/"
        },
        "id": "sSmzHHWrX7RL",
        "outputId": "d67e8161-24d0-4997-ad56-29ce08bde36e"
      },
      "source": [
        "[i.__name__ for i in lt_f]"
      ],
      "execution_count": 14,
      "outputs": [
        {
          "output_type": "execute_result",
          "data": {
            "text/plain": [
              "['fn_0', 'fn_1', 'fn_2']"
            ]
          },
          "metadata": {},
          "execution_count": 14
        }
      ]
    },
    {
      "cell_type": "code",
      "metadata": {
        "id": "znqGmIAvZEAy"
      },
      "source": [
        "def wrapper(f):\n",
        "  def inner(*args):\n",
        "    print('wassup')\n",
        "    return f(*args)\n",
        "  return inner\n",
        "\n"
      ],
      "execution_count": 15,
      "outputs": []
    },
    {
      "cell_type": "code",
      "metadata": {
        "colab": {
          "base_uri": "https://localhost:8080/"
        },
        "id": "9a9pi8apkStx",
        "outputId": "ef19d581-1a48-419f-a323-fbef160716b9"
      },
      "source": [
        "def fn(a):\n",
        "  return a+1\n",
        "\n",
        "\n",
        "fn=wrapper(fn)\n",
        "# fn(10)\n",
        "\n",
        "@wrapper\n",
        "def fn0(a):\n",
        "  return a*1\n",
        "\n",
        "fn0(0.1)"
      ],
      "execution_count": 16,
      "outputs": [
        {
          "output_type": "stream",
          "name": "stdout",
          "text": [
            "wassup\n"
          ]
        },
        {
          "output_type": "execute_result",
          "data": {
            "text/plain": [
              "0.1"
            ]
          },
          "metadata": {},
          "execution_count": 16
        }
      ]
    },
    {
      "cell_type": "code",
      "metadata": {
        "id": "IEmG0Ypxka3y"
      },
      "source": [
        "# https://stackoverflow.com/questions/15331726/how-does-functools-partial-do-what-it-does\n",
        "\n",
        "def wrapper(f, *add_args):\n",
        "  def inner(*args):\n",
        "    lt_args=list(args)\n",
        "    lt_args.extend(add_args)#this arguments will be thus added after so see the positional argument of the parent function to \n",
        "    \n",
        "    return f(*lt_args)\n",
        "  return inner"
      ],
      "execution_count": 17,
      "outputs": []
    },
    {
      "cell_type": "code",
      "metadata": {
        "colab": {
          "base_uri": "https://localhost:8080/"
        },
        "id": "1LJiqVmDoVuU",
        "outputId": "0e2849a3-af8f-4cc8-ca64-e133703b1eb9"
      },
      "source": [
        "bb=np.arange(5)\n",
        "bb"
      ],
      "execution_count": 18,
      "outputs": [
        {
          "output_type": "execute_result",
          "data": {
            "text/plain": [
              "array([0, 1, 2, 3, 4])"
            ]
          },
          "metadata": {},
          "execution_count": 18
        }
      ]
    },
    {
      "cell_type": "code",
      "metadata": {
        "id": "-LgZeZpYkbqA"
      },
      "source": [
        "def constraint(M,i):\n",
        "  global bb\n",
        "  return M - bb[i] \n",
        "\n",
        "lt_fn=[]\n",
        "# const=wrapper(const,)\n",
        "lt_fn=[wrapper(constraint,i) for i in range(len(bb))]"
      ],
      "execution_count": 19,
      "outputs": []
    },
    {
      "cell_type": "code",
      "metadata": {
        "colab": {
          "base_uri": "https://localhost:8080/"
        },
        "id": "fvpn3qjXpela",
        "outputId": "9d413332-23e4-4550-b68c-5250ee4fa0c4"
      },
      "source": [
        "[f(100) for f in lt_fn]#This will execute like inner(100) inner(100) inner(100) inner(100) inner(100)__> constraint(100,0),constraint(100,1),constraint(100,2),constraint(100,3)constraint(100,4)"
      ],
      "execution_count": 20,
      "outputs": [
        {
          "output_type": "execute_result",
          "data": {
            "text/plain": [
              "[100, 99, 98, 97, 96]"
            ]
          },
          "metadata": {},
          "execution_count": 20
        }
      ]
    },
    {
      "cell_type": "code",
      "metadata": {
        "id": "HJoNQzbAqJcH"
      },
      "source": [
        ""
      ],
      "execution_count": 20,
      "outputs": []
    }
  ]
}